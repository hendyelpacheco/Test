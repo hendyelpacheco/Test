{
 "cells": [
  {
   "cell_type": "markdown",
   "metadata": {},
   "source": [
    "# Project 2"
   ]
  },
  {
   "cell_type": "markdown",
   "metadata": {},
   "source": [
    "<b> Hendyel Pacheco </b>\n",
    "\n",
    "<b> Lihe Liu </b>"
   ]
  },
  {
   "cell_type": "markdown",
   "metadata": {},
   "source": [
    "## Data:\n",
    "The data file for this problem set is [here](https://github.com/CompTools/project2-cattlecoders-porject2/blob/master/flights.subset2.csv)"
   ]
  },
  {
   "cell_type": "markdown",
   "metadata": {},
   "source": [
    "## Resolution:"
   ]
  },
  {
   "cell_type": "code",
   "execution_count": 75,
   "metadata": {},
   "outputs": [
    {
     "name": "stdout",
     "output_type": "stream",
     "text": [
      "    Total Flights  Delayed All  Delayed15min\n",
      "CA             27           15             8\n",
      "NY              4            3             2\n",
      "HI              1            1             1\n",
      "NJ              8            5             4\n",
      "WA              2            2             1\n",
      "IL              3            2             1\n",
      "TX              2            0             0\n",
      "NV              2            1             1\n"
     ]
    }
   ],
   "source": [
    "import pandas as pd\n",
    "import matplotlib.pyplot as plt\n",
    "data = pd.read_csv(\"flights.subset2.csv\", sep = ',')\n",
    "\n",
    "#Creating an array for each vector\n",
    "y = data.ORIGIN_STATE_ABR.unique()\n",
    "total = []\n",
    "delayed1 = []\n",
    "delayed1_all = []\n",
    "\n",
    "#creating each vector\n",
    "for name in y:\n",
    "    total.append(data.ORIGIN_STATE_ABR.str.count(name).sum())\n",
    "    delayed1.append(data[(data.ORIGIN_STATE_ABR==name)&(data.DEP_DEL15==1)].DEP_DEL15.count())\n",
    "    delayed1_all.append(data[(data.ORIGIN_STATE_ABR==name)&(data.DEP_DELAY_NEW > 0.00)].DEP_DELAY_NEW.count())\n",
    "\n",
    "#ploting the new dataframe\n",
    "newdata = {'Total Flights': pd.Series(total,index = y),\n",
    "           'Delayed All' : pd.Series(delayed1_all, index = y),\n",
    "           'Delayed15min' : pd.Series(delayed1,index =y)}\n",
    "\n",
    "flightout = pd.DataFrame(newdata) \n",
    "flightout.to_csv(\"NumberFlights.csv\")\n",
    "\n",
    "print(flightout)\n",
    "\n"
   ]
  },
  {
   "cell_type": "markdown",
   "metadata": {},
   "source": [
    "<b>Plot comparing the number of: Total Flights, All flights delayed, and flights delayed more than 15 minutes<\\b>"
   ]
  },
  {
   "cell_type": "code",
   "execution_count": 76,
   "metadata": {},
   "outputs": [
    {
     "data": {
      "image/png": "[encoded data removed]",
      "text/plain": [
       "<Figure size 432x288 with 1 Axes>"
      ]
     },
     "metadata": {},
     "output_type": "display_data"
    }
   ],
   "source": [
    "flightplot = flightout.plot(kind=\"bar\", width = 0.8)"
   ]
  },
  {
   "cell_type": "markdown",
   "metadata": {},
   "source": [
    "<b>Get the total number of flights and delayed ones, ask the user which orgin state and destination state:</b>"
   ]
  },
  {
   "cell_type": "code",
   "execution_count": 92,
   "metadata": {
    "scrolled": true
   },
   "outputs": [
    {
     "name": "stdout",
     "output_type": "stream",
     "text": [
      "Enter origin state name abreviation: \n",
      "NJ\n",
      "\n",
      "The state NJ was involved in 16 flights. 8 departured from here, 5 of them were delayed and 4 of them are delayed more than 15 min. 8 arrived at here, 5 of them were delayed and 4 of them are delayed more than 15 min.\n"
     ]
    }
   ],
   "source": [
    "#open output files\n",
    "f = open(\"NumberFlights.csv\")\n",
    "f2 = open(\"Description.txt\",\"w+\")\n",
    "\n",
    "### Defination of functions\n",
    "# Asking for the state name\n",
    "def countflights():\n",
    "    global results\n",
    "\n",
    "    while True:\n",
    "        origin = input('Enter origin state name abreviation: ''\\n')\n",
    "        if origin.isupper() and origin.isalpha():\n",
    "            break\n",
    "        else:\n",
    "            states = data.ORIGIN_STATE_ABR.unique()\n",
    "            print('Please, choose one of these states and try again:\\n ',sorted(states),\"\\n\")        \n",
    "   \n",
    "    # Counting the number of total flights and delayed departure and arrival from the origin chosen by the user: \n",
    "    totalflights1 = data.ORIGIN_STATE_ABR.str.count(origin).sum()\n",
    "    delayed1 = data[(data.ORIGIN_STATE_ABR==origin)&(data.DEP_DEL15==1)].DEP_DEL15.count()\n",
    "    delayed1_all = data[(data.ORIGIN_STATE_ABR==origin)&(data.DEP_DELAY_NEW > 0.00)].DEP_DELAY_NEW.count()\n",
    "    totalflights2 = data.DEST_STATE_ABR.str.count(origin).sum()\n",
    "    delayed2 = data[(data.DEST_STATE_ABR==origin)&(data.ARR_DEL15==1)].ARR_DEL15.count()\n",
    "    delayed2_all = data[(data.DEST_STATE_ABR==origin)&(data.ARR_DELAY_NEW > 0.00)].ARR_DELAY_NEW.count()\n",
    "    totalflights = totalflights1 + totalflights2\n",
    "   \n",
    "    ## print out results: \n",
    "   \n",
    "    results = '\\nThe state %s was involved in %d flights. %d departured from here, %d of them were delayed and %d of them are delayed more than 15 min. %d arrived at here, %d of them were delayed and %d of them are delayed more than 15 min.' %(origin,totalflights,totalflights1,delayed1_all,delayed1,totalflights2,delayed2_all,delayed2)\n",
    "    \n",
    "    return results\n",
    "\n",
    "countflights()\n",
    "\n",
    "f2.write(results)\n",
    "f2.close()\n",
    "\n",
    "print(results)"
   ]
  },
  {
   "cell_type": "markdown",
   "metadata": {},
   "source": [
    "<b>Get stats of the distance.</b>"
   ]
  },
  {
   "cell_type": "code",
   "execution_count": 90,
   "metadata": {},
   "outputs": [
    {
     "name": "stdout",
     "output_type": "stream",
     "text": [
      "Enter origin state name abreviation: \n",
      "NJ\n",
      "\n",
      "For all the flights departing/arriving from/at NJ, the maximum, minimum and the average distance are 2565, 2454 and 2509, respectively. \n",
      "For all the flights arriving at NJ, the maximum, minimum and the dealy time are 166, 73 and 0, respectively. \n",
      "For all the flights departing from NJ, the maximum, minimum and the dealy time are 171, 0 and 60, respectively.\n"
     ]
    }
   ],
   "source": [
    "def getstats():\n",
    "    global results2\n",
    "    while True:\n",
    "        origin = input('Enter origin state name abreviation: ''\\n')\n",
    "        if origin.isupper() and origin.isalpha():\n",
    "            break\n",
    "        else:\n",
    "            states = data.ORIGIN_STATE_ABR.unique()\n",
    "            print('Please, choose one of these states and try again:\\n ',sorted(states),\"\\n\")\n",
    "            \n",
    "    Maxdist1 = data[(data.ORIGIN_STATE_ABR==origin)].DISTANCE.describe()[7]\n",
    "    Mindist1 =  data[(data.ORIGIN_STATE_ABR==origin)].DISTANCE.describe()[3]\n",
    "    Meandist1 =  data[(data.ORIGIN_STATE_ABR==origin)].DISTANCE.describe()[1]\n",
    "    Maxdelaytime2 = data[(data.ORIGIN_STATE_ABR==origin)].DEP_DELAY_NEW.describe()[7]\n",
    "    Mindelaytime2 =  data[(data.ORIGIN_STATE_ABR==origin)].DEP_DELAY_NEW.describe()[3]\n",
    "    Meandelaytime2 =  data[(data.ORIGIN_STATE_ABR==origin)].DEP_DELAY_NEW.describe()[1]\n",
    "    Maxdelaytime3 = data[(data.DEST_STATE_ABR==origin)].ARR_DELAY_NEW.describe()[7]\n",
    "    Mindelaytime3 =  data[(data.DEST_STATE_ABR==origin)].ARR_DELAY_NEW.describe()[3]\n",
    "    Meandelaytime3 =  data[(data.DEST_STATE_ABR==origin)].ARR_DELAY_NEW.describe()[1]\n",
    "\n",
    "    results2 = '\\nFor all the flights departing/arriving from/at %s, the maximum, minimum and the average distance are %d, %d and %d, respectively. \\nFor all the flights arriving at %s, the maximum, minimum and the dealy time are %d, %d and %d, respectively. \\nFor all the flights departing from %s, the maximum, minimum and the dealy time are %d, %d and %d, respectively.' %(origin,Maxdist1,Mindist1,Meandist1,origin,Maxdelaytime3,Meandelaytime3,Mindelaytime3,origin,Maxdelaytime2,Mindelaytime2,Meandelaytime2)\n",
    "    \n",
    "    return results2\n",
    "\n",
    "getstats()\n",
    "\n",
    "f2 = open(\"Description.txt\",\"a\")\n",
    "f2.write(results2)\n",
    "f2.close()\n",
    "\n",
    "print(results2)"
   ]
  },
  {
   "cell_type": "code",
   "execution_count": null,
   "metadata": {},
   "outputs": [],
   "source": []
  }
 ],
 "metadata": {
  "kernelspec": {
   "display_name": "Python 3",
   "language": "python",
   "name": "python3"
  },
  "language_info": {
   "codemirror_mode": {
    "name": "ipython",
    "version": 3
   },
   "file_extension": ".py",
   "mimetype": "text/x-python",
   "name": "python",
   "nbconvert_exporter": "python",
   "pygments_lexer": "ipython3",
   "version": "3.6.5"
  }
 },
 "nbformat": 4,
 "nbformat_minor": 2
}
